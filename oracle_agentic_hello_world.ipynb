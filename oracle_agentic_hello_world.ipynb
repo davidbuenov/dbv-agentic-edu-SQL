{
 "cells": [
  {
   "cell_type": "code",
   "execution_count": 1,
   "metadata": {},
   "outputs": [
    {
     "name": "stdout",
     "output_type": "stream",
     "text": [
      "✅ Python 3.13.3 >= 3.10.0\n",
      "✅ Sintaxis moderna de tipos disponible (PEP 604: Union | None)\n"
     ]
    }
   ],
   "source": [
    "# ✅ Verificación de versión de Python\n",
    "import sys\n",
    "\n",
    "required: tuple[int, int, int] = (3, 10, 0)\n",
    "current: tuple[int, int, int] = sys.version_info[:3]\n",
    "\n",
    "assert current >= required, (\n",
    "    f\"⚠️  Se requiere Python {required[0]}.{required[1]}.{required[2]} o superior \"\n",
    "    f\"para usar sintaxis moderna de tipos (str | None). \"\n",
    "    f\"Detectado: {current[0]}.{current[1]}.{current[2]}\"\n",
    ")\n",
    "\n",
    "print(f\"✅ Python {current[0]}.{current[1]}.{current[2]} >= {required[0]}.{required[1]}.{required[2]}\")\n",
    "print(\"✅ Sintaxis moderna de tipos disponible (PEP 604: Union | None)\")\n"
   ]
  },
  {
   "cell_type": "markdown",
   "metadata": {},
   "source": [
    "### 🧠 IA + Oracle: Hola mundo agentic\n",
    "Este notebook guía a los alumnos en una práctica básica para conectar con una base de datos Oracle, generar consultas SQL desde lenguaje natural usando distintos agentes vía [AISuite](https://github.com/andrewyng/aisuite/), y ejecutar esas consultas de forma segura.\n",
    "\n",
    "El objetivo es que a partir de una consulta en lenguaje natural, un primer agente genere el código sql asociado a esa consulta del usuario. Después se consultará la base de datos y se obtendrá el resultado en formato tabular que se mostrará al usuario. Esa información se enviará a otro agente que interpretará el resultado y se lo explicará al usuario. \n",
    "\n",
    "En el fichero Readme.md se explica la configuración necesaria para que este jupiter notebook funcione correctamente."
   ]
  },
  {
   "cell_type": "markdown",
   "metadata": {},
   "source": [
    "### 🔄 Flujo del Sistema Agéntico\n",
    "\n",
    "![Diagrama del Sistema Agéntico](images/diagramaagentic1-notrans.png)\n",
    "\n",
    "Este diagrama muestra el flujo completo del sistema de agentes que conecta la inteligencia artificial con la Base de Datos Oracle para procesar consultas en lenguaje natural.\n",
    "\n",
    "El primer paso será cargar las variables de entorno que están guardadas en el fichero .env donde se debe guardar la información de:\n",
    "- Conexión a la base de datos Oracle ORACLE_HOST, ORACLE_PORT, ORACLE_SID, ORACLE_USER, ORACLE_PASSWORD\n",
    "- Dependiendo de la IA que se vaya a utilizar se necesitará:\n",
    "    - OpenAI- OPENAI_API_KEY\n",
    "    - Anthropic - ANTHROPIC_API_KEY\n",
    "    - Google - GOOGLE_PROJECT_ID, GOOGLE_REGION, GOOGLE_APPLICATION_CREDENTIALS\n"
   ]
  },
  {
   "cell_type": "markdown",
   "metadata": {},
   "source": [
    "### 📚 Sobre las Buenas Prácticas de Código\n",
    "\n",
    "Este notebook aplica **código profesional Python 3.10+** con:\n",
    "- ✅ Type hints modernos (`str | None`, `list[tuple]`, `dict[str, str]`)\n",
    "- ✅ Funciones limpias: UN solo `return`, guard clauses, funciones auxiliares privadas (`_`)\n",
    "- ✅ Manejo robusto: cierre de recursos, excepciones específicas, validaciones\n",
    "- ✅ Documentación completa: docstrings con Args, Returns, Raises\n",
    "\n",
    "**📖 Para detalles completos sobre buenas prácticas de Python (con ejemplos ❌ MAL / ✅ BIEN), consulta:**\n",
    "👉 **[`buenaspracticas.ipynb`](buenaspracticas.ipynb)**\n",
    "\n",
    "**💡 Objetivo de este notebook:** Demostrar integración de IA (AISuite) con Oracle para generar SQL desde lenguaje natural.\n"
   ]
  },
  {
   "cell_type": "code",
   "execution_count": 2,
   "metadata": {},
   "outputs": [
    {
     "name": "stdout",
     "output_type": "stream",
     "text": [
      "✅ Variables de entorno cargadas.\n"
     ]
    }
   ],
   "source": [
    "# 🔐 Cargar variables de entorno y configuración\n",
    "from dotenv import load_dotenv\n",
    "import os\n",
    "\n",
    "def cargar_configuracion() -> dict[str, str | None]:\n",
    "    \"\"\"Carga las variables de entorno desde .env.\n",
    "    \n",
    "    Returns:\n",
    "        Diccionario con las variables de configuración\n",
    "        \n",
    "    Note:\n",
    "        Algunas variables pueden ser None si no están definidas\n",
    "    \"\"\"\n",
    "    load_dotenv()\n",
    "    print(\"✅ Variables de entorno cargadas.\")\n",
    "    \n",
    "    config: dict[str, str | None] = {\n",
    "        \"ORACLE_HOST\": os.getenv(\"ORACLE_HOST\"),\n",
    "        \"ORACLE_PORT\": os.getenv(\"ORACLE_PORT\"),\n",
    "        \"ORACLE_SID\": os.getenv(\"ORACLE_SID\"),\n",
    "        \"ORACLE_USER\": os.getenv(\"ORACLE_USER\"),\n",
    "        \"ORACLE_PASSWORD\": os.getenv(\"ORACLE_PASSWORD\"),\n",
    "        \"GOOGLE_PROJECT_ID\": os.getenv(\"GOOGLE_PROJECT_ID\"),\n",
    "        \"GOOGLE_REGION\": os.getenv(\"GOOGLE_REGION\"),\n",
    "        \"GOOGLE_APPLICATION_CREDENTIALS\": os.getenv(\"GOOGLE_APPLICATION_CREDENTIALS\"),\n",
    "    }\n",
    "    \n",
    "    return config\n",
    "\n",
    "# Cargar configuración\n",
    "CONFIG: dict[str, str | None] = cargar_configuracion()\n"
   ]
  },
  {
   "cell_type": "code",
   "execution_count": 3,
   "metadata": {},
   "outputs": [
    {
     "name": "stdout",
     "output_type": "stream",
     "text": [
      "✅ Conexión exitosa\n"
     ]
    }
   ],
   "source": [
    "# 🔗 Conexión a Oracle con Type Hints y Manejo de Recursos\n",
    "import oracledb\n",
    "\n",
    "def conectar_oracle(config: dict[str, str | None]) -> tuple[oracledb.Connection, oracledb.Cursor]:\n",
    "    \"\"\"Establece conexión a Oracle y retorna conexión y cursor.\n",
    "    \n",
    "    Args:\n",
    "        config: Diccionario con variables de configuración\n",
    "        \n",
    "    Returns:\n",
    "        Tupla con (conexión, cursor) de Oracle\n",
    "        \n",
    "    Raises:\n",
    "        ValueError: Si faltan variables de configuración\n",
    "        oracledb.DatabaseError: Si falla la conexión\n",
    "    \"\"\"\n",
    "    # Guard clauses: validar configuración\n",
    "    host: str | None = config.get(\"ORACLE_HOST\")\n",
    "    port: str | None = config.get(\"ORACLE_PORT\")\n",
    "    sid: str | None = config.get(\"ORACLE_SID\")\n",
    "    user: str | None = config.get(\"ORACLE_USER\")\n",
    "    password: str | None = config.get(\"ORACLE_PASSWORD\")\n",
    "    \n",
    "    if not all([host, port, sid, user, password]):\n",
    "        raise ValueError(\"Faltan variables de configuración de Oracle\")\n",
    "    \n",
    "    # Crear DSN y conectar (ya validado, pero mypy no lo sabe)\n",
    "    dsn: str = oracledb.makedsn(host, port, sid=sid)  # type: ignore\n",
    "    connection: oracledb.Connection = oracledb.connect(\n",
    "        user=user,  # type: ignore\n",
    "        password=password,  # type: ignore\n",
    "        dsn=dsn\n",
    "    )\n",
    "    cursor: oracledb.Cursor = connection.cursor()\n",
    "    \n",
    "    # Verificar conexión\n",
    "    cursor.execute(\"SELECT 'Conexión exitosa' FROM Dual\")\n",
    "    resultado: tuple = cursor.fetchone()  # type: ignore\n",
    "    print(f\"✅ {resultado[0]}\")\n",
    "    \n",
    "    return connection, cursor\n",
    "\n",
    "# Establecer conexión\n",
    "connection: oracledb.Connection\n",
    "cursor: oracledb.Cursor\n",
    "connection, cursor = conectar_oracle(CONFIG)\n"
   ]
  },
  {
   "cell_type": "markdown",
   "metadata": {},
   "source": [
    "La estructura de base de datos de ejemplo es muy sencilla. Se muestra el diagrama entidad relación.\n",
    "![Modelo ER](images/ERBDPEDIDOS.png)"
   ]
  },
  {
   "cell_type": "code",
   "execution_count": 4,
   "metadata": {},
   "outputs": [
    {
     "name": "stdout",
     "output_type": "stream",
     "text": [
      "📝 Pregunta del usuario: ¿Cuántos pedidos se hicieron en octubre?\n"
     ]
    }
   ],
   "source": [
    "# 🧠 Entrada en lenguaje natural\n",
    "# Ejemplos para la base de datos de clientes, productos y pedidos\n",
    "\n",
    "# Seleccionar UNA pregunta (comentar las demás)\n",
    "pregunta: str = \"¿Cuántos pedidos se hicieron en octubre?\"\n",
    "# pregunta = \"Selecciona todos los pedidos\"\n",
    "# pregunta = \"Cuantos y qué pedidos hizo Ana Gamez\"\n",
    "# pregunta = \"Quiero saber los productos que ha comprado Ana Gamez y lo que le costó cada uno\"\n",
    "\n",
    "print(f\"📝 Pregunta del usuario: {pregunta}\")\n"
   ]
  },
  {
   "cell_type": "markdown",
   "metadata": {},
   "source": [
    "Es importante pasarle a los agentes la estructura de la base de datos. Para que las consultas que generen tengan sentido. Eso se hace en el siguiente bloque usando un sistema de descubrimiento."
   ]
  },
  {
   "cell_type": "code",
   "execution_count": 5,
   "metadata": {},
   "outputs": [
    {
     "name": "stdout",
     "output_type": "stream",
     "text": [
      "✅ Esquema de la base de datos obtenido:\n",
      "- APLICACIONES(nombre_aplic, compania, precio, web_aplicacion)\n",
      "- CLIENTES(id_cliente, nombre, email, ciudad)\n",
      "- COMPATIBLE(nombre_documento, directorio, nombre_aplicacion)\n",
      "- DOC_TEXTO(ascii, num_lineas, num_caracteres, tipo, nombre, directorio)\n",
      "- DOCUMENTO(nombre, directorio, fecha_creacion, comentario, tamano)\n",
      "- PAGINA(nombre, directorio, numero_pagina)\n",
      "- PEDIDOS(id_pedido, id_cliente, id_producto, fecha_pedido, cantidad)\n",
      "- PRODUCTOS(id_producto, nombre, precio, categoria)\n"
     ]
    }
   ],
   "source": [
    "# 🗂️ Obtener esquema de la base de datos\n",
    "\n",
    "def obtener_esquema_bd(cursor: oracledb.Cursor, usuario: str | None) -> str:\n",
    "    \"\"\"Obtiene el esquema de la base de datos del usuario actual.\n",
    "    \n",
    "    Args:\n",
    "        cursor: Cursor activo de Oracle\n",
    "        usuario: Nombre del usuario de BD\n",
    "        \n",
    "    Returns:\n",
    "        String formateado con el esquema legible para LLM\n",
    "        \n",
    "    Raises:\n",
    "        ValueError: Si el usuario es None\n",
    "        oracledb.DatabaseError: Si falla la consulta\n",
    "    \"\"\"\n",
    "    # Guard clause\n",
    "    if not usuario:\n",
    "        raise ValueError(\"Usuario de BD no definido\")\n",
    "    \n",
    "    # Consultar esquema\n",
    "    cursor.execute(f\"\"\"\n",
    "        SELECT table_name, column_name\n",
    "        FROM all_tab_columns\n",
    "        WHERE owner = UPPER('{usuario}')\n",
    "        ORDER BY table_name, column_id\n",
    "    \"\"\")\n",
    "    \n",
    "    # Construir diccionario de esquema\n",
    "    esquema_dict: dict[str, list[str]] = {}\n",
    "    for table, column in cursor:\n",
    "        esquema_dict.setdefault(table, []).append(column)\n",
    "    \n",
    "    # Formatear para LLM (legible y conciso)\n",
    "    esquema_str: str = \"\\n\".join([\n",
    "        f\"- {tabla}({', '.join(columnas).lower()})\" \n",
    "        for tabla, columnas in esquema_dict.items()\n",
    "    ])\n",
    "    \n",
    "    print(\"✅ Esquema de la base de datos obtenido:\")\n",
    "    print(esquema_str)\n",
    "    \n",
    "    return esquema_str\n",
    "\n",
    "# Obtener esquema\n",
    "esquema: str = obtener_esquema_bd(cursor, CONFIG.get(\"ORACLE_USER\"))\n"
   ]
  },
  {
   "cell_type": "code",
   "execution_count": 6,
   "metadata": {},
   "outputs": [
    {
     "name": "stdout",
     "output_type": "stream",
     "text": [
      "✅ SQL generado por google:gemini-2.0-flash-001:\n",
      "SELECT COUNT(*) FROM PEDIDOS WHERE EXTRACT(MONTH FROM FECHA_PEDIDO) = 10\n"
     ]
    }
   ],
   "source": [
    "# 🤖 Generación de SQL con IA (Gemini|OpenAI|Anthropic vía AISuite)\n",
    "import aisuite as ai\n",
    "\n",
    "def generar_sql_desde_lenguaje_natural(\n",
    "    pregunta: str, \n",
    "    esquema: str, \n",
    "    modelo: str = \"google:gemini-2.0-flash-001\"\n",
    ") -> str:\n",
    "    \"\"\"Genera consulta SQL desde lenguaje natural usando IA.\n",
    "    \n",
    "    Args:\n",
    "        pregunta: Consulta del usuario en lenguaje natural\n",
    "        esquema: Esquema de la BD en formato string\n",
    "        modelo: Modelo de IA a usar (formato: \"proveedor:modelo\")\n",
    "        \n",
    "    Returns:\n",
    "        Consulta SQL limpia y lista para ejecutar\n",
    "    \"\"\"\n",
    "    client: ai.Client = ai.Client()\n",
    "    \n",
    "    messages: list[dict[str, str]] = [\n",
    "        {\n",
    "            \"role\": \"system\", \n",
    "            \"content\": f\"Eres un asistente experto en SQL para Oracle. Genera solo la consulta SQL compatible con Oracle, sin texto explicativo ni formato Markdown. Usa este esquema:\\n{esquema}\"\n",
    "        },\n",
    "        {\"role\": \"user\", \"content\": pregunta}\n",
    "    ]\n",
    "    \n",
    "    response = client.chat.completions.create(\n",
    "        model=modelo,\n",
    "        messages=messages\n",
    "    )\n",
    "    \n",
    "    # Limpiar respuesta\n",
    "    sql_limpio: str = _limpiar_sql(response.choices[0].message.content.strip())\n",
    "    \n",
    "    print(f\"✅ SQL generado por {modelo}:\")\n",
    "    print(sql_limpio)\n",
    "    \n",
    "    return sql_limpio\n",
    "\n",
    "\n",
    "def _limpiar_sql(raw_sql: str) -> str:\n",
    "    \"\"\"Función auxiliar: Limpia el SQL generado por IA.\n",
    "    \n",
    "    Args:\n",
    "        raw_sql: SQL crudo que puede contener Markdown\n",
    "        \n",
    "    Returns:\n",
    "        SQL limpio en una línea, sin punto y coma\n",
    "    \"\"\"\n",
    "    cleaned: str = raw_sql\n",
    "    \n",
    "    # Eliminar bloques de código Markdown\n",
    "    if cleaned.startswith(\"```\"):\n",
    "        cleaned = \"\\n\".join(cleaned.split(\"\\n\")[1:-1]).strip()\n",
    "    \n",
    "    # Normalizar: eliminar punto y coma, saltos de línea, tabulaciones\n",
    "    cleaned = cleaned.replace(\";\", \"\").replace(\"\\n\", \" \").replace(\"\\t\", \" \")\n",
    "    \n",
    "    # Eliminar espacios múltiples\n",
    "    return \" \".join(cleaned.split())\n",
    "\n",
    "\n",
    "# Generar SQL\n",
    "sql_generado: str = generar_sql_desde_lenguaje_natural(pregunta, esquema)\n"
   ]
  },
  {
   "cell_type": "code",
   "execution_count": 7,
   "metadata": {},
   "outputs": [
    {
     "name": "stdout",
     "output_type": "stream",
     "text": [
      "✅ Consulta ejecutada: 1 filas obtenidas\n",
      "(4,)\n"
     ]
    }
   ],
   "source": [
    "# 🧪 Ejecución del SQL con manejo de errores apropiado\n",
    "\n",
    "def ejecutar_sql(cursor: oracledb.Cursor, sql: str) -> list[tuple]:\n",
    "    \"\"\"Ejecuta una consulta SQL y retorna los resultados.\n",
    "    \n",
    "    Args:\n",
    "        cursor: Cursor activo de Oracle\n",
    "        sql: Consulta SQL a ejecutar\n",
    "        \n",
    "    Returns:\n",
    "        Lista de tuplas con los resultados\n",
    "        \n",
    "    Raises:\n",
    "        oracledb.DatabaseError: Si hay error en la consulta\n",
    "    \"\"\"\n",
    "    # Guard clause\n",
    "    if not sql.strip():\n",
    "        raise ValueError(\"La consulta SQL está vacía\")\n",
    "    \n",
    "    try:\n",
    "        cursor.execute(sql)\n",
    "        resultados: list[tuple] = cursor.fetchall()\n",
    "        \n",
    "        print(f\"✅ Consulta ejecutada: {len(resultados)} filas obtenidas\")\n",
    "        for fila in resultados:\n",
    "            print(fila)\n",
    "            \n",
    "        return resultados\n",
    "        \n",
    "    except oracledb.DatabaseError as e:\n",
    "        print(f\"❌ Error de base de datos: {e}\")\n",
    "        raise\n",
    "\n",
    "# Ejecutar SQL generado\n",
    "resultados: list[tuple] = ejecutar_sql(cursor, sql_generado)\n"
   ]
  },
  {
   "cell_type": "code",
   "execution_count": 8,
   "metadata": {},
   "outputs": [
    {
     "name": "stdout",
     "output_type": "stream",
     "text": [
      "✅ DataFrame creado con éxito\n"
     ]
    },
    {
     "data": {
      "text/html": [
       "<div>\n",
       "<style scoped>\n",
       "    .dataframe tbody tr th:only-of-type {\n",
       "        vertical-align: middle;\n",
       "    }\n",
       "\n",
       "    .dataframe tbody tr th {\n",
       "        vertical-align: top;\n",
       "    }\n",
       "\n",
       "    .dataframe thead th {\n",
       "        text-align: right;\n",
       "    }\n",
       "</style>\n",
       "<table border=\"1\" class=\"dataframe\">\n",
       "  <thead>\n",
       "    <tr style=\"text-align: right;\">\n",
       "      <th></th>\n",
       "      <th>COUNT(*)</th>\n",
       "    </tr>\n",
       "  </thead>\n",
       "  <tbody>\n",
       "    <tr>\n",
       "      <th>0</th>\n",
       "      <td>4</td>\n",
       "    </tr>\n",
       "  </tbody>\n",
       "</table>\n",
       "</div>"
      ],
      "text/plain": [
       "   COUNT(*)\n",
       "0         4"
      ]
     },
     "execution_count": 8,
     "metadata": {},
     "output_type": "execute_result"
    }
   ],
   "source": [
    "# 📊 Visualización en formato tabular\n",
    "import pandas as pd\n",
    "\n",
    "def convertir_a_dataframe(\n",
    "    resultados: list[tuple], \n",
    "    cursor: oracledb.Cursor\n",
    ") -> tuple[pd.DataFrame, str]:\n",
    "    \"\"\"Convierte resultados de BD a DataFrame y Markdown.\n",
    "    \n",
    "    Args:\n",
    "        resultados: Lista de tuplas con resultados de consulta\n",
    "        cursor: Cursor con metadata de las columnas\n",
    "        \n",
    "    Returns:\n",
    "        Tupla con (DataFrame, texto_markdown)\n",
    "    \"\"\"\n",
    "    # Extraer nombres de columnas\n",
    "    columnas: list[str] = [col[0] for col in cursor.description]  # type: ignore\n",
    "    \n",
    "    # Crear DataFrame\n",
    "    df: pd.DataFrame = pd.DataFrame(resultados, columns=columnas)\n",
    "    \n",
    "    # Convertir a Markdown para el agente interpretador\n",
    "    texto_markdown: str = df.to_markdown(index=False)\n",
    "    \n",
    "    print(\"✅ DataFrame creado con éxito\")\n",
    "    return df, texto_markdown\n",
    "\n",
    "# Convertir resultados\n",
    "df: pd.DataFrame\n",
    "texto_resultado: str\n",
    "df, texto_resultado = convertir_a_dataframe(resultados, cursor)\n",
    "\n",
    "# Mostrar primeras filas\n",
    "df.head()\n"
   ]
  },
  {
   "cell_type": "markdown",
   "metadata": {},
   "source": [
    "Aqui se crea el segundo Agente que puede ser con el mismo o diferente proveedor y será el encargado de coger el resultado de la consulta y analizarlo y explicarselo al usuario."
   ]
  },
  {
   "cell_type": "code",
   "execution_count": 9,
   "metadata": {},
   "outputs": [
    {
     "name": "stdout",
     "output_type": "stream",
     "text": [
      "✅ Interpretación generada por openai:gpt-4o:\n",
      "La consulta SQL se diseñó para contar el número de pedidos realizados en el mes de octubre. Al observar el resultado de la consulta, podemos interpretar que, en total, se registraron 4 pedidos en el sistema durante el mes de octubre. Esto nos da una idea del nivel de actividad de compras o transacciones ejecutadas por los clientes en ese período específico. Este dato podría ser utilizado para realizar comparaciones con meses anteriores o posteriores, analizar tendencias, y entender patrones de comportamiento de los clientes en relación con las adquisiciones de productos o servicios ofrecidos. También podría ser relevante para la planificación de inventarios y estrategias de marketing.\n"
     ]
    }
   ],
   "source": [
    "# 🧠 Interpretación de resultados con IA (Segundo Agente)\n",
    "\n",
    "def interpretar_resultados(\n",
    "    pregunta: str,\n",
    "    resultados_markdown: str,\n",
    "    esquema: str,\n",
    "    modelo: str = \"openai:gpt-4o\"\n",
    ") -> str:\n",
    "    \"\"\"Interpreta los resultados de la consulta en lenguaje natural.\n",
    "    \n",
    "    Args:\n",
    "        pregunta: Pregunta original del usuario\n",
    "        resultados_markdown: Resultados en formato Markdown\n",
    "        esquema: Esquema de la BD\n",
    "        modelo: Modelo de IA a usar\n",
    "        \n",
    "    Returns:\n",
    "        Interpretación en lenguaje natural de los resultados\n",
    "    \"\"\"\n",
    "    client: ai.Client = ai.Client()\n",
    "    \n",
    "    messages: list[dict[str, str]] = [\n",
    "        {\n",
    "            \"role\": \"system\", \n",
    "            \"content\": f\"Eres un experto en análisis de datos. Resume e interpreta los resultados de una consulta SQL realizada sobre este esquema: {esquema}\"\n",
    "        },\n",
    "        {\n",
    "            \"role\": \"user\", \n",
    "            \"content\": f\"La consulta fue: {pregunta}\\n\\nY los resultados fueron:\\n\\n{resultados_markdown}\"\n",
    "        }\n",
    "    ]\n",
    "    \n",
    "    response = client.chat.completions.create(\n",
    "        model=modelo,\n",
    "        messages=messages\n",
    "    )\n",
    "    \n",
    "    respuesta: str = response.choices[0].message.content.strip()\n",
    "    \n",
    "    print(f\"✅ Interpretación generada por {modelo}:\")\n",
    "    print(respuesta)\n",
    "    \n",
    "    return respuesta\n",
    "\n",
    "# Interpretar resultados\n",
    "respuesta_final: str = interpretar_resultados(\n",
    "    pregunta=pregunta,\n",
    "    resultados_markdown=texto_resultado,\n",
    "    esquema=esquema\n",
    ")\n"
   ]
  },
  {
   "cell_type": "markdown",
   "metadata": {},
   "source": [
    "### 🧠 Reflexión\n",
    "- ¿Qué otras preguntas podrías hacer?\n",
    "- ¿Cómo podrías validar que el SQL generado es seguro?\n",
    "- ¿Qué diferencias hay entre usar Gemini y otros modelos?\n",
    "\n",
    "### 🔄 Extensión\n",
    "- Cambia el modelo a `openai:gpt-4o` o `anthropic:claude-3-sonnet`\n",
    "- Añade un agente que valide que la consulta generada por el primero es correcta.\n",
    "- Haz que el agente planifique varios pasos (consulta + visualización)"
   ]
  },
  {
   "cell_type": "code",
   "execution_count": null,
   "metadata": {},
   "outputs": [],
   "source": [
    "# 🧹 Limpieza: Cerrar recursos de BD\n",
    "\n",
    "def cerrar_conexion(cursor: oracledb.Cursor, connection: oracledb.Connection) -> None:\n",
    "    \"\"\"Cierra cursor y conexión de Oracle de forma segura.\n",
    "    \n",
    "    Args:\n",
    "        cursor: Cursor a cerrar\n",
    "        connection: Conexión a cerrar\n",
    "        \n",
    "    Note:\n",
    "        Esta función garantiza el cierre incluso si alguno ya está cerrado\n",
    "    \"\"\"\n",
    "    try:\n",
    "        if cursor is not None:\n",
    "            cursor.close()\n",
    "            print(\"✅ Cursor cerrado\")\n",
    "    except Exception as e:\n",
    "        print(f\"⚠️  Error al cerrar cursor: {e}\")\n",
    "    \n",
    "    try:\n",
    "        if connection is not None:\n",
    "            connection.close()\n",
    "            print(\"✅ Conexión cerrada\")\n",
    "    except Exception as e:\n",
    "        print(f\"⚠️  Error al cerrar conexión: {e}\")\n",
    "\n",
    "# Cerrar recursos (ejecutar al final)\n",
    "# cerrar_conexion(cursor, connection)\n",
    "print(\"💡 Descomentar la línea anterior para cerrar la conexión cuando termines\")\n"
   ]
  }
 ],
 "metadata": {
  "kernelspec": {
   "display_name": ".venv",
   "language": "python",
   "name": "python3"
  },
  "language_info": {
   "codemirror_mode": {
    "name": "ipython",
    "version": 3
   },
   "file_extension": ".py",
   "mimetype": "text/x-python",
   "name": "python",
   "nbconvert_exporter": "python",
   "pygments_lexer": "ipython3",
   "version": "3.13.3"
  }
 },
 "nbformat": 4,
 "nbformat_minor": 2
}
